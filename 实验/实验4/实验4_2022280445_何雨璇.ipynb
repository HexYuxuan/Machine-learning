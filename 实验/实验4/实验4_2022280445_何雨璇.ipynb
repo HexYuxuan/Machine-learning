{
 "cells": [
  {
   "cell_type": "markdown",
   "id": "f3d2aca1-1aae-4418-8129-9bd9e7f8f206",
   "metadata": {},
   "source": [
    "### Preparation"
   ]
  },
  {
   "cell_type": "markdown",
   "id": "c622a340-bbaa-4db1-9ab0-f9c3590bcbca",
   "metadata": {},
   "source": [
    "Import the packedges we need."
   ]
  },
  {
   "cell_type": "code",
   "execution_count": 10,
   "id": "2cb03d9f-14da-4fb0-9a6d-7121a3af573a",
   "metadata": {},
   "outputs": [],
   "source": [
    "import pandas as pd\n",
    "import numpy as np\n",
    "from sklearn.decomposition import NMF\n",
    "from sklearn.metrics import silhouette_score\n",
    "from sklearn.cluster import KMeans\n",
    "import matplotlib.pyplot as plt"
   ]
  },
  {
   "cell_type": "markdown",
   "id": "4e0d220a-d06f-4798-a599-ef90c2b15a88",
   "metadata": {},
   "source": [
    "### 1. Load the dataset seeds.csv."
   ]
  },
  {
   "cell_type": "code",
   "execution_count": 11,
   "id": "375e97f7-50e6-4910-8da1-3b769c9f6b35",
   "metadata": {},
   "outputs": [
    {
     "data": {
      "text/html": [
       "<div>\n",
       "<style scoped>\n",
       "    .dataframe tbody tr th:only-of-type {\n",
       "        vertical-align: middle;\n",
       "    }\n",
       "\n",
       "    .dataframe tbody tr th {\n",
       "        vertical-align: top;\n",
       "    }\n",
       "\n",
       "    .dataframe thead th {\n",
       "        text-align: right;\n",
       "    }\n",
       "</style>\n",
       "<table border=\"1\" class=\"dataframe\">\n",
       "  <thead>\n",
       "    <tr style=\"text-align: right;\">\n",
       "      <th></th>\n",
       "      <th>area</th>\n",
       "      <th>perimeter</th>\n",
       "      <th>compactness</th>\n",
       "      <th>length</th>\n",
       "      <th>width</th>\n",
       "      <th>asymmetry_coefficient</th>\n",
       "      <th>groove_length</th>\n",
       "      <th>grain_variety</th>\n",
       "    </tr>\n",
       "  </thead>\n",
       "  <tbody>\n",
       "    <tr>\n",
       "      <th>0</th>\n",
       "      <td>15.26</td>\n",
       "      <td>14.84</td>\n",
       "      <td>0.8710</td>\n",
       "      <td>5.763</td>\n",
       "      <td>3.312</td>\n",
       "      <td>2.221</td>\n",
       "      <td>5.220</td>\n",
       "      <td>Kama wheat</td>\n",
       "    </tr>\n",
       "    <tr>\n",
       "      <th>1</th>\n",
       "      <td>14.88</td>\n",
       "      <td>14.57</td>\n",
       "      <td>0.8811</td>\n",
       "      <td>5.554</td>\n",
       "      <td>3.333</td>\n",
       "      <td>1.018</td>\n",
       "      <td>4.956</td>\n",
       "      <td>Kama wheat</td>\n",
       "    </tr>\n",
       "    <tr>\n",
       "      <th>2</th>\n",
       "      <td>14.29</td>\n",
       "      <td>14.09</td>\n",
       "      <td>0.9050</td>\n",
       "      <td>5.291</td>\n",
       "      <td>3.337</td>\n",
       "      <td>2.699</td>\n",
       "      <td>4.825</td>\n",
       "      <td>Kama wheat</td>\n",
       "    </tr>\n",
       "    <tr>\n",
       "      <th>3</th>\n",
       "      <td>13.84</td>\n",
       "      <td>13.94</td>\n",
       "      <td>0.8955</td>\n",
       "      <td>5.324</td>\n",
       "      <td>3.379</td>\n",
       "      <td>2.259</td>\n",
       "      <td>4.805</td>\n",
       "      <td>Kama wheat</td>\n",
       "    </tr>\n",
       "    <tr>\n",
       "      <th>4</th>\n",
       "      <td>16.14</td>\n",
       "      <td>14.99</td>\n",
       "      <td>0.9034</td>\n",
       "      <td>5.658</td>\n",
       "      <td>3.562</td>\n",
       "      <td>1.355</td>\n",
       "      <td>5.175</td>\n",
       "      <td>Kama wheat</td>\n",
       "    </tr>\n",
       "  </tbody>\n",
       "</table>\n",
       "</div>"
      ],
      "text/plain": [
       "    area  perimeter  compactness  length  width  asymmetry_coefficient  \\\n",
       "0  15.26      14.84       0.8710   5.763  3.312                  2.221   \n",
       "1  14.88      14.57       0.8811   5.554  3.333                  1.018   \n",
       "2  14.29      14.09       0.9050   5.291  3.337                  2.699   \n",
       "3  13.84      13.94       0.8955   5.324  3.379                  2.259   \n",
       "4  16.14      14.99       0.9034   5.658  3.562                  1.355   \n",
       "\n",
       "   groove_length grain_variety  \n",
       "0          5.220    Kama wheat  \n",
       "1          4.956    Kama wheat  \n",
       "2          4.825    Kama wheat  \n",
       "3          4.805    Kama wheat  \n",
       "4          5.175    Kama wheat  "
      ]
     },
     "execution_count": 11,
     "metadata": {},
     "output_type": "execute_result"
    }
   ],
   "source": [
    "\n",
    "# Load the dataset\n",
    "seeds_df = pd.read_csv('seeds.csv')\n",
    "\n",
    "# Display the first few rows of the dataframe\n",
    "seeds_df.head()\n"
   ]
  },
  {
   "cell_type": "markdown",
   "id": "14697335-ceec-4f06-a29c-989317e2f8de",
   "metadata": {},
   "source": [
    "### 2. Extract the grain variety and the feature data, and transform the feature data into a numpy array."
   ]
  },
  {
   "cell_type": "code",
   "execution_count": 12,
   "id": "7ca3751b-fc00-44af-94af-eaeccc3c9e34",
   "metadata": {},
   "outputs": [
    {
     "data": {
      "text/plain": [
       "(0    Kama wheat\n",
       " 1    Kama wheat\n",
       " 2    Kama wheat\n",
       " 3    Kama wheat\n",
       " 4    Kama wheat\n",
       " Name: grain_variety, dtype: object,\n",
       " array([[15.26  , 14.84  ,  0.871 ,  5.763 ,  3.312 ,  2.221 ,  5.22  ],\n",
       "        [14.88  , 14.57  ,  0.8811,  5.554 ,  3.333 ,  1.018 ,  4.956 ],\n",
       "        [14.29  , 14.09  ,  0.905 ,  5.291 ,  3.337 ,  2.699 ,  4.825 ],\n",
       "        [13.84  , 13.94  ,  0.8955,  5.324 ,  3.379 ,  2.259 ,  4.805 ],\n",
       "        [16.14  , 14.99  ,  0.9034,  5.658 ,  3.562 ,  1.355 ,  5.175 ]]))"
      ]
     },
     "execution_count": 12,
     "metadata": {},
     "output_type": "execute_result"
    }
   ],
   "source": [
    "# Extract the grain variety\n",
    "variety = seeds_df.iloc[:, -1]\n",
    "\n",
    "# Extract the feature data and transform it into a numpy array\n",
    "features = seeds_df.iloc[:, :-1].to_numpy()\n",
    "\n",
    "variety.head(), features[:5]"
   ]
  },
  {
   "cell_type": "markdown",
   "id": "d4b8d706-1ba7-4c5b-a0ff-9978d4048370",
   "metadata": {},
   "source": [
    "### 3. Run the non-negative matrix decomposition on the data multiple times (rank=3, repeat_times=20)."
   ]
  },
  {
   "cell_type": "code",
   "execution_count": 13,
   "id": "5a01729c-e7c6-43c5-8c8d-4ee84dff5ad5",
   "metadata": {},
   "outputs": [
    {
     "data": {
      "text/plain": [
       "array([[2.70390134, 0.88957393, 0.4564148 ],\n",
       "       [2.68752964, 0.37848612, 0.52421316],\n",
       "       [2.49509754, 1.09145473, 0.40359983],\n",
       "       [2.3901675 , 0.90769979, 0.46312236],\n",
       "       [3.00380381, 0.51688019, 0.43750213]])"
      ]
     },
     "execution_count": 13,
     "metadata": {},
     "output_type": "execute_result"
    }
   ],
   "source": [
    "# Parameters\n",
    "rank = 3\n",
    "repeat_times = 20\n",
    "max_iter = 1000  # Increased maximum iteration\n",
    "\n",
    "# Initialize lists to store results\n",
    "nmf_models = []\n",
    "silhouette_scores = []\n",
    "\n",
    "# Run NMF\n",
    "for _ in range(repeat_times):\n",
    "    # Apply NMF\n",
    "    nmf = NMF(n_components=rank, init='random', max_iter=max_iter, random_state=None)\n",
    "    W = nmf.fit_transform(features)\n",
    "\n",
    "    # Store decomposition results\n",
    "    nmf_models.append(W)\n",
    "\n",
    "    # Run KMeans clustering on W and calculate silhouette score\n",
    "    kmeans = KMeans(n_clusters=rank, n_init=20, random_state=None).fit(W)\n",
    "    labels = kmeans.labels_\n",
    "    score = silhouette_score(features, labels)\n",
    "    silhouette_scores.append(score)\n",
    "\n",
    "# Showing the results of partial NMF decomposition\n",
    "nmf_models[0][:5]"
   ]
  },
  {
   "cell_type": "markdown",
   "id": "77b1503c-4469-43c3-8d4f-89a0ae2f2c34",
   "metadata": {},
   "source": [
    "### 4. Calculate the Silhouette coefficients for each clustering result ,and plot a  line graph labeling the best score."
   ]
  },
  {
   "cell_type": "code",
   "execution_count": 17,
   "id": "744f12ae-1aab-4950-9e69-b77d28b7e6a0",
   "metadata": {},
   "outputs": [
    {
     "data": {
      "image/png": "[encoded data removed]",
      "text/plain": [
       "<Figure size 1000x600 with 1 Axes>"
      ]
     },
     "metadata": {},
     "output_type": "display_data"
    }
   ],
   "source": [
    "# Find the best score and corresponding clustering results\n",
    "best_score_idx = np.argmax(silhouette_scores)\n",
    "best_score = silhouette_scores[best_score_idx]\n",
    "best_labels = kmeans.labels_  # Use labels from the best iteration\n",
    "\n",
    "# Plot silhouette scores\n",
    "plt.figure(figsize=(10, 6))\n",
    "plt.plot(range(repeat_times), silhouette_scores, marker='o', label='Silhouette Score')\n",
    "plt.xlabel('Iteration')\n",
    "plt.ylabel('Silhouette Score')\n",
    "plt.title('Silhouette Score for Each Iteration')\n",
    "plt.axhline(y=best_score, color='r', linestyle='--', label=f'Best Score: {best_score:.2f}')\n",
    "plt.legend()\n",
    "plt.show()"
   ]
  },
  {
   "cell_type": "markdown",
   "id": "0cb79367-2b58-479f-8c09-46b0341847bd",
   "metadata": {},
   "source": [
    "### 5. Transform the clustering results corresponding to the best score into a Dataframe, and make a crosstab of the varieties and the best clustering results pd.crosstab(df1, df2)"
   ]
  },
  {
   "cell_type": "code",
   "execution_count": 16,
   "id": "b256415c-ad10-4900-bb35-3682dd3eb4f9",
   "metadata": {},
   "outputs": [
    {
     "name": "stdout",
     "output_type": "stream",
     "text": [
      "\n",
      "Crosstab of Varieties and Clustering Results:\n"
     ]
    },
    {
     "data": {
      "text/html": [
       "<div>\n",
       "<style scoped>\n",
       "    .dataframe tbody tr th:only-of-type {\n",
       "        vertical-align: middle;\n",
       "    }\n",
       "\n",
       "    .dataframe tbody tr th {\n",
       "        vertical-align: top;\n",
       "    }\n",
       "\n",
       "    .dataframe thead th {\n",
       "        text-align: right;\n",
       "    }\n",
       "</style>\n",
       "<table border=\"1\" class=\"dataframe\">\n",
       "  <thead>\n",
       "    <tr style=\"text-align: right;\">\n",
       "      <th>cluster</th>\n",
       "      <th>0</th>\n",
       "      <th>1</th>\n",
       "      <th>2</th>\n",
       "    </tr>\n",
       "    <tr>\n",
       "      <th>variety</th>\n",
       "      <th></th>\n",
       "      <th></th>\n",
       "      <th></th>\n",
       "    </tr>\n",
       "  </thead>\n",
       "  <tbody>\n",
       "    <tr>\n",
       "      <th>Canadian wheat</th>\n",
       "      <td>68</td>\n",
       "      <td>0</td>\n",
       "      <td>2</td>\n",
       "    </tr>\n",
       "    <tr>\n",
       "      <th>Kama wheat</th>\n",
       "      <td>7</td>\n",
       "      <td>2</td>\n",
       "      <td>61</td>\n",
       "    </tr>\n",
       "    <tr>\n",
       "      <th>Rosa wheat</th>\n",
       "      <td>0</td>\n",
       "      <td>61</td>\n",
       "      <td>9</td>\n",
       "    </tr>\n",
       "  </tbody>\n",
       "</table>\n",
       "</div>"
      ],
      "text/plain": [
       "cluster          0   1   2\n",
       "variety                   \n",
       "Canadian wheat  68   0   2\n",
       "Kama wheat       7   2  61\n",
       "Rosa wheat       0  61   9"
      ]
     },
     "execution_count": 16,
     "metadata": {},
     "output_type": "execute_result"
    }
   ],
   "source": [
    "\n",
    "# Transform clustering results into DataFrame\n",
    "best_clustering_df = pd.DataFrame({'variety': variety.values, 'cluster': best_labels})\n",
    "\n",
    "# Create crosstab of varieties and best clustering results\n",
    "crosstab_results = pd.crosstab(best_clustering_df['variety'], best_clustering_df['cluster'])\n",
    "\n",
    "# Display crosstab\n",
    "print(\"\\nCrosstab of Varieties and Clustering Results:\")\n",
    "crosstab_results\n"
   ]
  },
  {
   "cell_type": "code",
   "execution_count": null,
   "id": "a1cc863c-6cdb-452a-b634-0649615d7db1",
   "metadata": {},
   "outputs": [],
   "source": []
  }
 ],
 "metadata": {
  "kernelspec": {
   "display_name": "Python 3 (ipykernel)",
   "language": "python",
   "name": "python3"
  },
  "language_info": {
   "codemirror_mode": {
    "name": "ipython",
    "version": 3
   },
   "file_extension": ".py",
   "mimetype": "text/x-python",
   "name": "python",
   "nbconvert_exporter": "python",
   "pygments_lexer": "ipython3",
   "version": "3.11.8"
  }
 },
 "nbformat": 4,
 "nbformat_minor": 5
}
